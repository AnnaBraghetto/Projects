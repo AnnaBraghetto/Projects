{
 "cells": [
  {
   "cell_type": "code",
   "execution_count": 0,
   "metadata": {
    "colab": {},
    "colab_type": "code",
    "id": "9yNJ0bro4EbD"
   },
   "outputs": [],
   "source": [
    "import torch\n",
    "import numpy as np\n",
    "import pandas as pd\n",
    "import json\n",
    "from torch import nn\n",
    "from torch.utils.data import Dataset, DataLoader\n",
    "from collections import Counter\n",
    "import re\n",
    "import gensim\n",
    "import string\n",
    "import csv\n",
    "import random\n",
    "from torchvision import transforms\n",
    "from pathlib import Path\n",
    "import matplotlib.pyplot as plt\n",
    "from sklearn.model_selection import KFold\n",
    "from sklearn.decomposition import PCA\n",
    "from math import ceil\n",
    "import warnings\n",
    "warnings.filterwarnings(\"ignore\")"
   ]
  },
  {
   "cell_type": "markdown",
   "metadata": {
    "colab_type": "text",
    "id": "cmbTBeQi9F9b"
   },
   "source": [
    "# Parameters of the Process"
   ]
  },
  {
   "cell_type": "code",
   "execution_count": 2,
   "metadata": {
    "colab": {
     "base_uri": "https://localhost:8080/",
     "height": 34
    },
    "colab_type": "code",
    "executionInfo": {
     "elapsed": 1808,
     "status": "ok",
     "timestamp": 1581882955554,
     "user": {
      "displayName": "Marino Braghetto",
      "photoUrl": "",
      "userId": "02551736165510158038"
     },
     "user_tz": -60
    },
    "id": "S3VUVE6hZWJ0",
    "outputId": "f67a4f0a-c0ca-4bd6-d10a-3638a8addcc5"
   },
   "outputs": [
    {
     "name": "stdout",
     "output_type": "stream",
     "text": [
      "I use cuda: True\n"
     ]
    }
   ],
   "source": [
    "# Set device\n",
    "device = torch.device(\"cuda\") if torch.cuda.is_available() else torch.device(\"cpu\")\n",
    "# GPU\n",
    "useCuda = False\n",
    "if torch.cuda.is_available():\n",
    "  useCuda = True\n",
    "  torch.set_default_tensor_type(torch.cuda.FloatTensor)\n",
    "print('I use cuda:',useCuda)"
   ]
  },
  {
   "cell_type": "code",
   "execution_count": 0,
   "metadata": {
    "colab": {},
    "colab_type": "code",
    "id": "LBFY7-Fl9FT8"
   },
   "outputs": [],
   "source": [
    "Colab = True\n",
    "\n",
    "### Boolean for processes\n",
    "boolW2V = False #Word to vec\n",
    "boolCV = False # Cross validation\n",
    "boolFT = False # Final training\n",
    "\n",
    "### Book\n",
    "books = ['Chance.txt','TheMirroroftheSea.txt','HeartofDarkness.txt','LordJim.txt','TheShadow-Line.txt']\n",
    "\n",
    "### Parameters\n",
    "\n",
    "# Dataset\n",
    "w2v_size = 100\n",
    "crop_len = 20\n",
    "batch_size = 512\n",
    "\n",
    "# Network\n",
    "dropout_prob = 0.3\n",
    "\n",
    "### Random seed\n",
    "np.random.seed(17)\n",
    "random.seed(17)"
   ]
  },
  {
   "cell_type": "markdown",
   "metadata": {
    "colab_type": "text",
    "id": "7XOjn0Gx4Umh"
   },
   "source": [
    "# Colab instructions\n",
    "\n",
    "If I am using Colab, the path is specified."
   ]
  },
  {
   "cell_type": "code",
   "execution_count": 4,
   "metadata": {
    "colab": {
     "base_uri": "https://localhost:8080/",
     "height": 34
    },
    "colab_type": "code",
    "executionInfo": {
     "elapsed": 1790,
     "status": "ok",
     "timestamp": 1581882955555,
     "user": {
      "displayName": "Marino Braghetto",
      "photoUrl": "",
      "userId": "02551736165510158038"
     },
     "user_tz": -60
    },
    "id": "K4ADnlOm4MH8",
    "outputId": "0f904453-c96a-41bf-e0bd-1710c8fbdf15"
   },
   "outputs": [
    {
     "name": "stdout",
     "output_type": "stream",
     "text": [
      "Drive already mounted at /content/drive; to attempt to forcibly remount, call drive.mount(\"/content/drive\", force_remount=True).\n"
     ]
    }
   ],
   "source": [
    "if Colab:\n",
    "  from google.colab import drive\n",
    "  drive.mount('/content/drive')\n",
    "  path = '/content/drive/My Drive/'\n",
    "else:\n",
    "  path = ''      "
   ]
  },
  {
   "cell_type": "markdown",
   "metadata": {
    "colab_type": "text",
    "id": "kkfqtBVp4eLF"
   },
   "source": [
    "# Load of dataset \n",
    "\n",
    "The dataset is loaded and clean. Furthermore, just the most frequent words are considered."
   ]
  },
  {
   "cell_type": "markdown",
   "metadata": {
    "colab_type": "text",
    "id": "vuvIr2aY40Vf"
   },
   "source": [
    "#### Clean dictionary functions"
   ]
  },
  {
   "cell_type": "code",
   "execution_count": 0,
   "metadata": {
    "colab": {},
    "colab_type": "code",
    "id": "X1YCICbk4zfB"
   },
   "outputs": [],
   "source": [
    "def BuildText(path,books):\n",
    "    \n",
    "    # Read files\n",
    "    text_list = [open(path+b, 'r').read() for b in books]\n",
    "\n",
    "    # Build the dataset    \n",
    "    text = ''\n",
    "    for t in text_list:\n",
    "        text += t\n",
    "\n",
    "    return text\n",
    "\n",
    "def Clean(input_text):\n",
    "    # Lower case\n",
    "    text = input_text.lower()\n",
    "\n",
    "    # Remove space after a new line\n",
    "    text = re.sub('\\n[ ]+\\n', '\\n', text)\n",
    "\n",
    "    # Substitute cases\n",
    "    text = re.sub('['+'_'+']', ' ', text)\n",
    "    text = re.sub('['+'—'+']', ' ', text)\n",
    "    text = re.sub('['+'-'+']', ' ', text)\n",
    "    text = re.sub('['+'“'+']', ' ', text)\n",
    "    text = re.sub('['+'”'+']', ' ', text) \n",
    "    text = re.sub('['+'‘'+']', ' ', text) \n",
    "    text = re.sub('['+'’'+']', ' ', text) \n",
    "    # Keep just points and commas\n",
    "    text = re.sub('['+','+']', ' '+'commapunct'+' ', text)\n",
    "    text = re.sub('['+'.'+']', ' '+'pointpunct'+' ', text)\n",
    "    text = re.sub('['+'!'+']', ' '+'exclapunct'+' ', text)\n",
    "    text = re.sub('['+'?'+']', ' '+'questpunct'+' ', text)\n",
    "\n",
    "    return text"
   ]
  },
  {
   "cell_type": "code",
   "execution_count": 0,
   "metadata": {
    "colab": {},
    "colab_type": "code",
    "id": "Ubc-H7IW4dH7"
   },
   "outputs": [],
   "source": [
    "class BookDataset(Dataset):\n",
    "    \n",
    "    def __init__(self, path, books, boolW2V, w2v_size, crop_len, transform=None):\n",
    "\n",
    "        ### Preprocessing\n",
    "\n",
    "        text = BuildText(path, books)      \n",
    "        text = Clean(text)   \n",
    "        self.text=text  \n",
    "             \n",
    "        ### Paragraph\n",
    "        \n",
    "        # Extract the paragraph\n",
    "        par_list = re.split('\\n\\n', self.text)\n",
    "        \n",
    "\n",
    "        # Split paragraphs\n",
    "        translator=str.maketrans('','',string.punctuation)\n",
    "        par_list = [x.translate(translator).split() for x in par_list]\n",
    "        par_list = [x for x in par_list if len(x) >= crop_len]\n",
    "        \n",
    "        # Considering all* the sequences inside a paragraph\n",
    "        seq_list = []\n",
    "        for par in par_list:\n",
    "            index = len(par)-crop_len\n",
    "            while index > 0:\n",
    "                seq_list.append(crop(par,index,crop_len))\n",
    "                index -= crop_len\n",
    "\n",
    "        random.shuffle(seq_list)\n",
    "\n",
    "        ### Store data\n",
    "        self.par_list = par_list\n",
    "        self.seq_list = seq_list  \n",
    "        self.w2v_size = w2v_size\n",
    "        self.crop_len = crop_len  \n",
    "        self.transform = transform    \n",
    "\n",
    "        # Indexes\n",
    "        self.w2i = {}\n",
    "        self.i2w = {}\n",
    "        # Approximations\n",
    "        self.w2a = {}\n",
    "\n",
    "        self.W2V(boolW2V)\n",
    "        \n",
    "\n",
    "    def __len__(self):\n",
    "        return len(self.seq_list)\n",
    "        \n",
    "    def __getitem__(self, idx):\n",
    "        # Get paragraph text\n",
    "        text = self.seq_list[idx]\n",
    "        # Encode with numbers\n",
    "        encoded = encode_text(self.w2i,text)\n",
    "        # Create sample\n",
    "        sample = {'text': text, 'encoded': encoded}\n",
    "\n",
    "        # Transform\n",
    "        if self.transform:\n",
    "            sample = self.transform(sample)\n",
    "\n",
    "        return sample\n",
    "\n",
    "    def W2V(self, bool):\n",
    "\n",
    "        if bool:\n",
    "\n",
    "            ### Word to vector\n",
    "\n",
    "            # Model\n",
    "            word_model = gensim.models.Word2Vec(self.seq_list, size=self.w2v_size, min_count=1, window=5, workers=4, iter=200)\n",
    "            words = list(word_model.wv.vocab)\n",
    "\n",
    "            # Dictionaries for word2vec     \n",
    "            # From index to word\n",
    "            self.w2i = {w: i for i, w in enumerate(word_model.wv.index2word)}           \n",
    "            # From word to index        \n",
    "            self.i2w = {word_model.wv.vocab[w].index : w for w in words}   \n",
    "            # From words to approximation\n",
    "            self.w2a = { w : ' '+w for w in words }\n",
    "            self.w2a['commapunct'] = ','\n",
    "            self.w2a['pointpunct'] = '.'\n",
    "            self.w2a['exclapunct'] = '!'\n",
    "            self.w2a['questpunct'] = '?'\n",
    "\n",
    "            ### Save\n",
    "\n",
    "            # Save weights\n",
    "            weights = torch.FloatTensor(word_model.wv.vectors)\n",
    "            save_weights = path+'Embedding.torch'\n",
    "            pathw = F\"{save_weights}\" \n",
    "            torch.save(weights, pathw)\n",
    "            # Save dictionaries\n",
    "            with open(path + 'i2w.json', 'w') as f:\n",
    "                json.dump(self.i2w, f, indent=4)\n",
    "            with open(path + 'w2i.json', 'w') as f:\n",
    "                json.dump(self.w2i, f, indent=4)\n",
    "            with open(path + 'w2a.json', 'w') as f:\n",
    "                json.dump(self.w2a, f, indent=4)\n",
    "\n",
    "\n",
    "            # Save model\n",
    "            word_model.save(path+'word_model.bin')\n",
    "\n",
    "            \n",
    "            # Load dictionaries\n",
    "            self.i2w = json.load(open(path + 'i2w.json'))\n",
    "            self.w2i = json.load(open(path + 'w2i.json'))\n",
    "            self.w2a = json.load(open(path + 'w2a.json'))\n",
    "\n",
    "\n",
    "        else:\n",
    "\n",
    "            # Load dictionaries\n",
    "            self.i2w = json.load(open(path + 'i2w.json'))\n",
    "            self.w2i = json.load(open(path + 'w2i.json'))\n",
    "            self.w2a = json.load(open(path + 'w2a.json'))\n",
    "\n",
    "                \n",
    "    def Info(self):    \n",
    "\n",
    "        print('Information about dataset')\n",
    "        print('-------------------------')\n",
    "        print('Number of paragraph:',len(self.par_list))\n",
    "        print('Number of sequences:',len(self.seq_list))\n",
    "        print('Number of vocabs:', len(self.i2w))\n",
    "        print('-------------------------')\n",
    "\n",
    "    def LenVocab(self):\n",
    "        return len(self.i2w)\n",
    "\n",
    "\n",
    "### Encode and Decode functions\n",
    "        \n",
    "def encode_text(dictionary,text):\n",
    "    i = -1\n",
    "    for w in text:\n",
    "        i+=1\n",
    "        try:\n",
    "            temp = dictionary[w]\n",
    "        except:\n",
    "            text.remove(w)\n",
    "    encoded = [dictionary[w] for w in text]\n",
    "    return encoded\n",
    "def decode_text(dictionary,code):\n",
    "    text = [dictionary[str(i)] for i in code]\n",
    "    return text\n",
    "\n",
    "### Crop to build sentences \n",
    "\n",
    "def crop(par,index,crop_len):   \n",
    "    start_idx = index\n",
    "    end_idx = start_idx + crop_len\n",
    "    return par[start_idx: end_idx]"
   ]
  },
  {
   "cell_type": "code",
   "execution_count": 0,
   "metadata": {
    "colab": {},
    "colab_type": "code",
    "id": "qG79r13FrSd5"
   },
   "outputs": [],
   "source": [
    "\n",
    "# Class to prepare text for training\n",
    "               \n",
    "class ToTensor():    \n",
    "    def __call__(self, sample):\n",
    "        # Convert one hot encoded text to pytorch tensor\n",
    "        encoded = torch.LongTensor(sample['encoded'])\n",
    "        return {'encoded': encoded} "
   ]
  },
  {
   "cell_type": "code",
   "execution_count": 8,
   "metadata": {
    "colab": {
     "base_uri": "https://localhost:8080/",
     "height": 119
    },
    "colab_type": "code",
    "executionInfo": {
     "elapsed": 2107,
     "status": "ok",
     "timestamp": 1581882955898,
     "user": {
      "displayName": "Marino Braghetto",
      "photoUrl": "",
      "userId": "02551736165510158038"
     },
     "user_tz": -60
    },
    "id": "aniCTiLy88Wl",
    "outputId": "0a54504f-d640-454f-f4b6-5207a22029e0"
   },
   "outputs": [
    {
     "name": "stdout",
     "output_type": "stream",
     "text": [
      "Information about dataset\n",
      "-------------------------\n",
      "Number of paragraph: 3549\n",
      "Number of sequences: 21665\n",
      "Number of vocabs: 17246\n",
      "-------------------------\n"
     ]
    }
   ],
   "source": [
    "# Transformation\n",
    "trans = ToTensor()\n",
    "# Dataset\n",
    "dataset = BookDataset(path,books,boolW2V,w2v_size,crop_len,transform=trans)\n",
    "dataset.Info()\n",
    "vocab_len = dataset.LenVocab()"
   ]
  },
  {
   "cell_type": "code",
   "execution_count": 0,
   "metadata": {
    "colab": {},
    "colab_type": "code",
    "id": "Vq3wk5aXYy56"
   },
   "outputs": [],
   "source": [
    "# Check on the length of the sentences\n",
    "for seq in dataset:\n",
    "  if len(seq['encoded'])!=20:\n",
    "    print(len(seq['encoded']))"
   ]
  },
  {
   "cell_type": "markdown",
   "metadata": {
    "colab_type": "text",
    "id": "koeL-foiWWLx"
   },
   "source": [
    "# Analysis of Word2Vec\n"
   ]
  },
  {
   "cell_type": "code",
   "execution_count": 10,
   "metadata": {
    "colab": {
     "base_uri": "https://localhost:8080/",
     "height": 279
    },
    "colab_type": "code",
    "executionInfo": {
     "elapsed": 2961,
     "status": "ok",
     "timestamp": 1581882956768,
     "user": {
      "displayName": "Marino Braghetto",
      "photoUrl": "",
      "userId": "02551736165510158038"
     },
     "user_tz": -60
    },
    "id": "ssOdsV5RWVYu",
    "outputId": "da322e97-e0f5-4f18-d441-bd17f09451d6"
   },
   "outputs": [
    {
     "data": {
      "image/png": "[encoded data removed]",
      "text/plain": [
       "<Figure size 432x288 with 1 Axes>"
      ]
     },
     "metadata": {
      "tags": []
     },
     "output_type": "display_data"
    }
   ],
   "source": [
    "model = gensim.models.Word2Vec.load(path+'word_model.bin')\n",
    "\n",
    "name = ['stairs','window','table','morning','night','afternoon','woman','man','child']\n",
    "vector = model[name]\n",
    "\n",
    "pca = PCA(n_components=2)\n",
    "result = pca.fit_transform(vector)\n",
    "\n",
    "plt.scatter(result[:,0],result[:,1])\n",
    "for i, word in enumerate(name):\n",
    "    plt.annotate(word,xy=(result[i,0],result[i,1]),fontsize=11)\n",
    "plt.xlim(-11,+16)\n",
    "plt.ylim(-11,+16)\n",
    "plt.xticks(np.arange(-10,16,5))\n",
    "plt.yticks(np.arange(-10,16,5))\n",
    "plt.xlabel('First component')\n",
    "plt.ylabel('Second component')\n",
    "plt.savefig(path+'w2v.png')\n",
    "plt.show()"
   ]
  },
  {
   "cell_type": "markdown",
   "metadata": {
    "colab_type": "text",
    "id": "V4VSiRzm2-4Z"
   },
   "source": [
    "# Training and Validation sets"
   ]
  },
  {
   "cell_type": "code",
   "execution_count": 11,
   "metadata": {
    "colab": {
     "base_uri": "https://localhost:8080/",
     "height": 102
    },
    "colab_type": "code",
    "executionInfo": {
     "elapsed": 6116,
     "status": "ok",
     "timestamp": 1581882959937,
     "user": {
      "displayName": "Marino Braghetto",
      "photoUrl": "",
      "userId": "02551736165510158038"
     },
     "user_tz": -60
    },
    "id": "l5F69TzXpE2b",
    "outputId": "42e09221-bbbe-4db4-b1bb-2ebb4d56cd5f"
   },
   "outputs": [
    {
     "name": "stdout",
     "output_type": "stream",
     "text": [
      "Information about training and validation set\n",
      "---------------------------------------------\n",
      "Size of training set: 17332\n",
      "Size of validation set: 4333\n",
      "---------------------------------------------\n"
     ]
    }
   ],
   "source": [
    "torch.manual_seed(int(17))\n",
    "train, val = torch.utils.data.random_split(dataset, [int(len(dataset)*0.8),len(dataset)-int(len(dataset)*0.8)])\n",
    "print('Information about training and validation set')\n",
    "print('---------------------------------------------')\n",
    "print('Size of training set:',len(train))\n",
    "print('Size of validation set:',len(val))\n",
    "print('---------------------------------------------')"
   ]
  },
  {
   "cell_type": "markdown",
   "metadata": {
    "colab_type": "text",
    "id": "3piu4BNF7TQK"
   },
   "source": [
    "# Neural Network"
   ]
  },
  {
   "cell_type": "code",
   "execution_count": 0,
   "metadata": {
    "colab": {},
    "colab_type": "code",
    "id": "0bWCR5aOqBme"
   },
   "outputs": [],
   "source": [
    "class Network(nn.Module):\n",
    "    \n",
    "    def __init__(self, vocab_len, w2v_size, hidden_units, layers_num, dropout_prob=0):\n",
    "        # Call the parent init function (required!)\n",
    "        super().__init__()\n",
    "        \n",
    "        # Input layer for embedding\n",
    "        #read weights\n",
    "        w2vweight = torch.load(path+'Embedding.torch')\n",
    "        w2vweight = torch.FloatTensor(w2vweight)\n",
    "\n",
    "        #vocab_len -> w2v_size\n",
    "        self.embedding = nn.Embedding(vocab_len, w2v_size).from_pretrained(w2vweight)\n",
    "        # Do not train the embedding layer\n",
    "        self.embedding.weight.requires_grad=False  \n",
    "\n",
    "        # LSTM \n",
    "        #w2v_size -> hidden_units\n",
    "        self.rnn = nn.LSTM(input_size=w2v_size, \n",
    "                           hidden_size=hidden_units,\n",
    "                           num_layers=layers_num,\n",
    "                           dropout=dropout_prob,\n",
    "                           batch_first=True)\n",
    "        \n",
    "        # Output\n",
    "        #hidden_units -> vocab_len\n",
    "        self.out = nn.Linear(hidden_units, vocab_len)\n",
    "        \n",
    "    def forward(self, x, state=None):\n",
    "        # Embedding\n",
    "        x = self.embedding(x)\n",
    "        # LSTM\n",
    "        x, rnn_state = self.rnn(x, state)\n",
    "        # Linear layer\n",
    "        output = self.out(x)\n",
    "\n",
    "        return output, rnn_state"
   ]
  },
  {
   "cell_type": "markdown",
   "metadata": {
    "colab_type": "text",
    "id": "EIsoEXMdPWdP"
   },
   "source": [
    "# Training "
   ]
  },
  {
   "cell_type": "code",
   "execution_count": 0,
   "metadata": {
    "colab": {},
    "colab_type": "code",
    "id": "LbVGqzqGPVmp"
   },
   "outputs": [],
   "source": [
    " class TrainPredict():\n",
    "\n",
    "    def __init__(self, net, dataset, train, val, batch_size):\n",
    "        self.net = net\n",
    "        self.dataset = dataset\n",
    "        # Saving bacthes\n",
    "        self.train = DataLoader(train, batch_size=batch_size, shuffle=True, num_workers=1)\n",
    "        self.val = DataLoader(val, batch_size=batch_size, shuffle=True, num_workers=1)      \n",
    "        # Saving loss\n",
    "        self.loss_train = []\n",
    "        self.loss_val = []\n",
    "\n",
    "        # Print information about batches\n",
    "        print('-------------------------------------------')\n",
    "        print('Number of training batches:', ceil(len(train)/batch_size))\n",
    "        print('Number of validation batches:', ceil(len(val)/batch_size))\n",
    "        print('-------------------------------------------')\n",
    "        \n",
    "    # Train a single batch\n",
    "    def train_batch(self, e, batch, loss_fn, optimizer):\n",
    "\n",
    "        # Get the labels (the last letter of each sequence) and input\n",
    "        X, y = batch[:, :-1], batch[:, 1:]\n",
    "        # Eventually clear previous recorded gradients\n",
    "        optimizer.zero_grad()\n",
    "        # Forward pass\n",
    "        y_pred, _ = self.net(X)\n",
    "        # Evaluate loss only for last output\n",
    "        loss = loss_fn(y_pred.transpose(1, 2), y)\n",
    "\n",
    "        # Backward pass\n",
    "        loss.backward()\n",
    "        # Update\n",
    "        optimizer.step()\n",
    "     \n",
    "        # Return average batch loss\n",
    "        return float(loss.data)\n",
    "\n",
    "    # Evaluate a single batch\n",
    "    def eval_batch(self, e, batch, loss_fn):\n",
    " \n",
    "        # Get the labels (the last letter of each sequence) and input\n",
    "        X, y = batch[:, :-1], batch[:, 1:]\n",
    "        with torch.no_grad(): # Avoid tracking the gradients (much faster!)\n",
    "            y_pred, _ = self.net(X)\n",
    "        # Evaluate loss only for last output\n",
    "        loss = loss_fn(y_pred.transpose(1, 2), y)\n",
    "\n",
    "        # Return average batch loss\n",
    "        return float(loss.data)\n",
    "\n",
    "    # Training function\n",
    "    def training(self, n_epochs, verbose):\n",
    "        \n",
    "        if useCuda:\n",
    "          torch.cuda.empty_cache()\n",
    "\n",
    "        # Define Optimizer, Scheduler and Loss \n",
    "        optimizer = torch.optim.Adam(filter(lambda p: p.requires_grad, self.net.parameters()),lr=1e-3, weight_decay=5e-4)\n",
    "\n",
    "        loss_fn = nn.CrossEntropyLoss()\n",
    "\n",
    "        # Epochs\n",
    "        lt = []\n",
    "        lv = []\n",
    "        for epoch in range(n_epochs):\n",
    "\n",
    "                if((epoch+1)%2 == 0 and verbose):\n",
    "                      print('##################################')\n",
    "                      print('## EPOCH %d' % (epoch + 1))\n",
    "                      print('##################################')\n",
    "\n",
    "                ### Training\n",
    "\n",
    "                # Iterate batches\n",
    "                # Training mode\n",
    "                self.net.train() \n",
    "                for batch_sample in self.train:\n",
    "                    # Extract batch\n",
    "                    batch = batch_sample['encoded'].to(device)\n",
    "                    # Update network\n",
    "                    batch_loss = self.train_batch(epoch, batch, loss_fn, optimizer)\n",
    "                    # Save loss\n",
    "                    lt.append(batch_loss)            \n",
    "\n",
    "                if((epoch+1)%2 == 0 and verbose):\n",
    "                    print('\\t Training loss:', np.mean(np.array(lt)))\n",
    "\n",
    "\n",
    "                if((epoch+1)%1 == 0):\n",
    "                    self.loss_train.append(np.mean(np.array(lt))) \n",
    "                    lt = []\n",
    "\n",
    "                ### Validation\n",
    "\n",
    "                # Iterate batches\n",
    "                # Eval mode\n",
    "                self.net.eval()\n",
    "                for batch_sample in self.val:\n",
    "                    # Extract batch\n",
    "                    batch = batch_sample['encoded'].to(device)\n",
    "                    # Update network\n",
    "                    batch_loss = self.eval_batch(epoch, batch, loss_fn)\n",
    "                    # Save loss\n",
    "                    lv.append(batch_loss)\n",
    "\n",
    "                if((epoch+1)%2 == 0  and verbose):\n",
    "                      print('\\t Validation loss :', np.mean(np.array(lv)))\n",
    "\n",
    "                if((epoch+1)%1 == 0):\n",
    "                    self.loss_val.append(np.mean(np.array(lv)))\n",
    "                    lv = []                     \n",
    "\n",
    "                # Save weights\n",
    "                if (epoch+1)%5:\n",
    "                    # Save network parameters\n",
    "                    torch.save(self.net.state_dict(), path+'net_params.pth')\n",
    "\n",
    "                if epoch > 30:\n",
    "                    # prevent overfitting\n",
    "                    k = 0\n",
    "                    for i in range(30):\n",
    "                      index=len(self.loss_val)-1\n",
    "                      if self.loss_val[index-i]>self.loss_val[index-i-1]: \n",
    "                        k+=1\n",
    "                    if k>= 20: \n",
    "                        print('Early stopping at epoch', epoch)\n",
    "                        ### Save final weights                \n",
    "                        # Save network parameters\n",
    "                        torch.save(self.net.state_dict(),path+'net_params.pth')\n",
    "                        break\n",
    "\n",
    "        ### Save final weights                \n",
    "        torch.save(self.net.state_dict(), path+ 'net_params.pth')\n",
    "\n",
    "        return self.loss_train, self.loss_val\n",
    "\n",
    "    # Prediction\n",
    "    def predict(self,input_seed,n):\n",
    "\n",
    "        seed = Clean(input_seed)\n",
    "        translator=str.maketrans('','',string.punctuation)\n",
    "        seed = seed.translate(translator).split() \n",
    "\n",
    "        # Evaluation mode\n",
    "        self.net.eval() \n",
    "\n",
    "        ###  Find initial state of the RNN\n",
    "        with torch.no_grad():\n",
    "            # Encode seed\n",
    "            seed_encoded = encode_text(self.dataset.w2i, seed)\n",
    "            # To tensor\n",
    "            seed_tensor = torch.LongTensor(seed_encoded)\n",
    "            # Add batch axis\n",
    "            seed_tensor = seed_tensor.unsqueeze(0).to(device)\n",
    "            # Forward pass\n",
    "            net_out, net_state = self.net(seed_tensor)\n",
    "        # Get the most probable last output index\n",
    "        next_encoded = self.next_softmax(net_out[:, -1, :])\n",
    "        # Print the seed letters\n",
    "        print(input_seed, end='', flush=True)\n",
    "\n",
    "        next_decoded = self.dataset.i2w[str(next_encoded)]\n",
    "        print(self.dataset.w2a[next_decoded], end='', flush=True)\n",
    "\n",
    "        ### Generate sentences\n",
    "\n",
    "        tot_count = 0\n",
    "        while True:\n",
    "            with torch.no_grad(): # No need to track the gradients\n",
    "                # The new network input is the one hot encoding of the last chosen letter\n",
    "                net_input = torch.LongTensor([next_encoded])\n",
    "                net_input = net_input.unsqueeze(0).to(device)\n",
    "                # Forward pass\n",
    "                net_out, net_state = self.net(net_input, net_state)\n",
    "                # Get the most probable letter index\n",
    "                next_encoded = self.next_softmax(net_out[:, -1, :])\n",
    "               \n",
    "                # Decode the letter\n",
    "                next_decoded = self.dataset.i2w[str(next_encoded)]\n",
    "                print(self.dataset.w2a[next_decoded], end='', flush=True)\n",
    "                # Count total letters\n",
    "                tot_count += 1\n",
    "                # Break if n words\n",
    "                if tot_count > n:\n",
    "                    break\n",
    "\n",
    "    def next_softmax(self,x):\n",
    "        #returns the word\n",
    "        with torch.no_grad():\n",
    "            out = nn.functional.softmax(x,dim=1)\n",
    "            vocab = np.arange(out.shape[1])\n",
    "            sampling = out.reshape(-1,).cpu().detach().numpy()\n",
    "            predicted = np.random.choice(vocab, p=sampling/sum(sampling))\n",
    "        return predicted.item()\n"
   ]
  },
  {
   "cell_type": "markdown",
   "metadata": {
    "colab_type": "text",
    "id": "uhcO2--TG3IE"
   },
   "source": [
    "# Cross Validation"
   ]
  },
  {
   "cell_type": "code",
   "execution_count": 0,
   "metadata": {
    "colab": {},
    "colab_type": "code",
    "id": "MfxXLZZYWCwn"
   },
   "outputs": [],
   "source": [
    "class CrossValidation():\n",
    "    def __init__(self, dataset, train, folds, layers, hidden_units):\n",
    "        self.dataset = dataset\n",
    "        self.train = train\n",
    "        self.folds = folds\n",
    "        self.layers = layers\n",
    "        self.hidden_units = hidden_units\n",
    "        self.losses = []\n",
    "        self.best = []\n",
    "    \n",
    "    def one_par(self, par, batch_size):\n",
    "\n",
    "        # Print\n",
    "        print('---------------------------------------------------------------')\n",
    "        print('Number layers:',self.layers[par])\n",
    "        print('Hidden units:',self.hidden_units[par])\n",
    "        print('---------------------------------------------------------------')\n",
    "\n",
    "        # Losses\n",
    "        l = 0\n",
    "        # Kfold\n",
    "        kf = KFold(n_splits=self.folds,random_state=17)\n",
    "        kf.get_n_splits(self.train)\n",
    "\n",
    "        # Start cross validation\n",
    "        for train_index, val_index in kf.split(self.train):\n",
    "            train_index = list(train_index)\n",
    "            val_index = list(val_index)\n",
    "            ktrain = torch.utils.data.Subset(self.train, train_index)\n",
    "            kval= torch.utils.data.Subset(self.train, val_index)\n",
    "            # Build network\n",
    "            knet = Network(vocab_len, w2v_size, self.hidden_units[par], self.layers[par], dropout_prob)\n",
    "            knet = knet.to(device) \n",
    "            print(knet)\n",
    "            TP = TrainPredict(knet, self.dataset, ktrain, kval, batch_size)\n",
    "            print('Prediction before training:')\n",
    "            seed = 'You are'\n",
    "            TP.predict(seed,20)\n",
    "\n",
    "            # Training            \n",
    "            losst, lossv =  TP.training(100, False)\n",
    "\n",
    "            # Plot\n",
    "            e = np.arange(len(losst))\n",
    "            plt.plot(e,losst, label='Training loss')\n",
    "            plt.plot(e,lossv, label='Validation loss')\n",
    "            plt.xlabel('Epochs')\n",
    "            plt.ylabel('Loss')\n",
    "            plt.legend()\n",
    "            plt.show()\n",
    "            seed = 'The people want'\n",
    "            TP.predict(seed,30)\n",
    "            print('\\n')\n",
    "            seed = 'There were'\n",
    "            TP.predict(seed,30)\n",
    "            print('\\n')\n",
    "            seed = 'She was going to'\n",
    "            TP.predict(seed,30)\n",
    "            print('\\n','---------------------------------------------------------------')\n",
    "\n",
    "            l += lossv[-1]\n",
    "\n",
    "        # Save losses\n",
    "        self.losses.append(l/self.folds)\n",
    "        \n",
    "        print('Loss:',self.losses[-1])\n",
    "\n",
    "    def Validate(self, bool, batch_size):\n",
    "\n",
    "        if bool:\n",
    "          for par in range(len(self.layers)):\n",
    "              self.one_par(par, batch_size)\n",
    "\n",
    "          best = np.argmin(np.array(self.losses))\n",
    "          self.best.append(self.hidden_units[best])\n",
    "          self.best.append(self.layers[best])\n",
    "          self.best.append(self.losses[best])\n",
    "          return self.best\n",
    "\n",
    "  "
   ]
  },
  {
   "cell_type": "markdown",
   "metadata": {
    "colab_type": "text",
    "id": "Ye74jS2MQmtr"
   },
   "source": [
    "# Result of the cross validation"
   ]
  },
  {
   "cell_type": "code",
   "execution_count": 0,
   "metadata": {
    "cellView": "both",
    "colab": {},
    "colab_type": "code",
    "id": "BQwkoEFT8mfR"
   },
   "outputs": [],
   "source": [
    "cv = CrossValidation(dataset,train,3,layers=[2,2,2],hidden_units=[32,64,128])\n",
    "best = cv.Validate(boolCV, batch_size)\n",
    "best"
   ]
  },
  {
   "cell_type": "code",
   "execution_count": 0,
   "metadata": {
    "colab": {},
    "colab_type": "code",
    "id": "N2JdmIJFjgVB"
   },
   "outputs": [],
   "source": [
    "cv = CrossValidation(dataset,train,3,layers=[3,3,3],hidden_units=[32,64,128])\n",
    "best = cv.Validate(boolCV, batch_size)\n",
    "best"
   ]
  },
  {
   "cell_type": "markdown",
   "metadata": {
    "colab_type": "text",
    "id": "VLXlnKHvHHgl"
   },
   "source": [
    "# Final Training"
   ]
  },
  {
   "cell_type": "code",
   "execution_count": 0,
   "metadata": {
    "colab": {},
    "colab_type": "code",
    "id": "Z2vMJk-0Gt4H"
   },
   "outputs": [],
   "source": [
    "if boolFT:\n",
    "  best = [128,2]\n",
    "  net = Network(vocab_len, w2v_size, best[0], best[1], dropout_prob)\n",
    "  net = net.to(device) \n",
    "  print(net)\n",
    "  TP = TrainPredict(net, dataset, train, val, batch_size)\n",
    "  losst, lossv =  TP.training(500, True)"
   ]
  },
  {
   "cell_type": "code",
   "execution_count": 0,
   "metadata": {
    "colab": {},
    "colab_type": "code",
    "id": "Cglck2X7Gud8"
   },
   "outputs": [],
   "source": [
    "if boolFT:\n",
    "  # Plot\n",
    "  plt.plot(losst, label='Training loss')\n",
    "  plt.plot(lossv, label='Validation loss')\n",
    "  plt.xlabel('Epoch')\n",
    "  plt.ylabel('Loss')\n",
    "  plt.legend()\n",
    "  #plt.yscale('log')\n",
    "  plt.savefig(path+'loss.png')\n",
    "  plt.show()"
   ]
  },
  {
   "cell_type": "code",
   "execution_count": 0,
   "metadata": {
    "colab": {},
    "colab_type": "code",
    "id": "3WcS57Gn9ZEZ"
   },
   "outputs": [],
   "source": [
    "if boolFT:\n",
    "  seed = 'The people want'\n",
    "  TP.predict(seed,30)\n",
    "  print('\\n')\n",
    "  seed = 'There were'\n",
    "  TP.predict(seed,30)\n",
    "  print('\\n')\n",
    "  seed = 'She was going to'\n",
    "  TP.predict(seed,30)"
   ]
  },
  {
   "cell_type": "code",
   "execution_count": 0,
   "metadata": {
    "colab": {},
    "colab_type": "code",
    "id": "9ivBey6wRluY"
   },
   "outputs": [],
   "source": []
  }
 ],
 "metadata": {
  "accelerator": "GPU",
  "colab": {
   "collapsed_sections": [],
   "machine_shape": "hm",
   "name": "HW3-Braghetto-CODE.ipynb",
   "provenance": []
  },
  "kernelspec": {
   "display_name": "Python 3",
   "language": "python",
   "name": "python3"
  },
  "language_info": {
   "codemirror_mode": {
    "name": "ipython",
    "version": 3
   },
   "file_extension": ".py",
   "mimetype": "text/x-python",
   "name": "python",
   "nbconvert_exporter": "python",
   "pygments_lexer": "ipython3",
   "version": "3.7.3"
  }
 },
 "nbformat": 4,
 "nbformat_minor": 1
}
